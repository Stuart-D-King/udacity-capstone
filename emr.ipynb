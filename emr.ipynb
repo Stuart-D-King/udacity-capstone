{
 "cells": [
  {
   "cell_type": "code",
   "execution_count": 1,
   "metadata": {},
   "outputs": [],
   "source": [
    "import pandas as pd\n",
    "import boto3\n",
    "import configparser"
   ]
  },
  {
   "cell_type": "code",
   "execution_count": null,
   "metadata": {},
   "outputs": [],
   "source": [
    "config = configparser.ConfigParser()\n",
    "config.read_file(open('emr.cfg'))"
   ]
  },
  {
   "cell_type": "code",
   "execution_count": null,
   "metadata": {},
   "outputs": [],
   "source": [
    "key = os.environ.get('AWS_ACCESS_KEY_ID')\n",
    "secret = os.environ.get('AWS_SECRET_ACCESS_KEY')\n",
    "\n",
    "node_type = config.get('CLUSTER', 'NODE_TYPE')\n",
    "log_uri = config.get('CLUSTER', 'LOG_URI')\n",
    "emr_name = config.get('CLUSTER', 'NAME')\n",
    "key_pair = config.get('CLUSTER', 'KEY_PAIR')\n",
    "subnet = config.get('CLUSTER', 'SUBNET')\n",
    "capstone_bucket = config.get('S3', 'S3_BUCKET')"
   ]
  },
  {
   "cell_type": "code",
   "execution_count": null,
   "metadata": {},
   "outputs": [],
   "source": [
    "s3 = boto3.resource('s3',\n",
    "    region_name=\"us-west-2\",\n",
    "    aws_access_key_id=key,\n",
    "    aws_secret_access_key=secret)\n",
    "\n",
    "emr = boto3.client('emr',\n",
    "    region_name=\"us-west-2\",\n",
    "    aws_access_key_id=key,\n",
    "    aws_secret_access_key=secret)"
   ]
  },
  {
   "cell_type": "code",
   "execution_count": null,
   "metadata": {},
   "outputs": [],
   "source": [
    "emr_cluster = emr.run_job_flow(\n",
    "    Name=emr_name,\n",
    "    LogUri=log_uri,\n",
    "    ReleaseLabel='emr-5.29.0',\n",
    "    Applications=[{'Name': 'Spark'}],\n",
    "    Instances={\n",
    "        'InstanceGroups': [\n",
    "            {'Name': 'master_node',\n",
    "                'Market': 'ON_DEMAND',\n",
    "                'InstanceRole': 'MASTER',\n",
    "                'InstanceType': node_type,\n",
    "                'InstanceCount': 1},\n",
    "            {'Name': 'slave_node',\n",
    "                'Market': 'ON_DEMAND',\n",
    "                'InstanceRole': 'CORE',\n",
    "                'InstanceType': node_type,\n",
    "                'InstanceCount': 3}],\n",
    "        'Ec2KeyName': key_pair,\n",
    "        'KeepJobFlowAliveWhenNoSteps': True,\n",
    "        'TerminationProtected': False,\n",
    "        'Ec2SubnetId': subnet},\n",
    "#     BootstrapActions=[\n",
    "#         {'Name': 'install_python_modules',\n",
    "#             'ScriptBootstrapAction': {\n",
    "#                 'Path': capstone_bucket + 'install_python_modules.sh'}\n",
    "#         }],\n",
    "    VisibleToAllUsers=True,\n",
    "    JobFlowRole='EMR_EC2_DefaultRole',\n",
    "    ServiceRole='EMR_DefaultRole'\n",
    ")\n",
    "\n",
    "# print('Cluster created with the step...', emr_cluster['JobFlowId'])"
   ]
  },
  {
   "cell_type": "code",
   "execution_count": null,
   "metadata": {},
   "outputs": [],
   "source": [
    "def prettyEmrProps(props):\n",
    "    pd.set_option('display.max_colwidth', -1)\n",
    "    keys = ['Cluster', 'LogUri', 'MasterPublicDnsName', 'Ec2InstanceAttributes']\n",
    "    cluster_subkeys = ['Id', 'Name', 'Status']\n",
    "    ec2_subkeys = ['Ec2KeyName', 'Ec2SubnetId']\n",
    "    x = []\n",
    "    for k,v in props.items():\n",
    "        if k in keys:\n",
    "            if k == 'Cluster':\n",
    "                for a,b in v.items():\n",
    "                    if b in cluster_subkeys:\n",
    "                        x.append(('Cluster.' + a, b))\n",
    "            elif k == 'Ec2SubnetId':\n",
    "                for c,d in v.items():\n",
    "                    if c in ec2_subkeys:\n",
    "                        x.append(('Ec2SubnetId.' + c, d))\n",
    "            else:\n",
    "                x.append((k,v))\n",
    "    return pd.DataFrame(data=x, columns=[\"key\", \"value\"])"
   ]
  },
  {
   "cell_type": "code",
   "execution_count": null,
   "metadata": {},
   "outputs": [],
   "source": [
    "# run until Cluser.Status = 'available'\n",
    "props = emr.describe_clusters(ClusterId=emr_cluster['JobFlowId'])"
   ]
  },
  {
   "cell_type": "code",
   "execution_count": null,
   "metadata": {},
   "outputs": [],
   "source": [
    "props['Cluster']['Status']"
   ]
  },
  {
   "cell_type": "code",
   "execution_count": null,
   "metadata": {},
   "outputs": [],
   "source": [
    "props['MasterPublicDnsName']"
   ]
  },
  {
   "cell_type": "code",
   "execution_count": null,
   "metadata": {},
   "outputs": [],
   "source": [
    "prettyEmrProps(props)"
   ]
  },
  {
   "cell_type": "code",
   "execution_count": null,
   "metadata": {},
   "outputs": [],
   "source": [
    "copy_args = ['aws','s3','cp',capstone_bucket + 'etl.py','/','--recursive']\n",
    "copy_script_step ={\n",
    "    'Name': 'copy_pipeline_to_emr',\n",
    "    'ActionOnFailure': 'CONTINUE',\n",
    "    'HadoopJarStep': {\n",
    "        'Jar': 'command-runner.jar',\n",
    "        'Args': copy_args\n",
    "        }\n",
    "    }\n",
    "\n",
    "spark_args = ['spark-submit', '--master', 'yarn', 'etl.py']\n",
    "spark_step = {\n",
    "    'Name': 'run-capstone-pipeline',\n",
    "    'ActionOnFailure': 'CONTINUE',\n",
    "    'HadoopJarStep': {\n",
    "        'Jar': 'command-runner.jar',\n",
    "        'Args': spark_args\n",
    "        }\n",
    "    }\n",
    "\n",
    "actions = emr.add_job_flow_steps(JobFlowId=emr_cluster['JobFlowId'], Steps=[copy_step, spark_step])\n",
    "print('Added steps: {}'.format(actions))"
   ]
  },
  {
   "cell_type": "code",
   "execution_count": null,
   "metadata": {},
   "outputs": [],
   "source": [
    "# to terminate the cluster\n",
    "response = emr.terminate_job_flows(emr_cluster['JobFlowId'])"
   ]
  },
  {
   "cell_type": "code",
   "execution_count": null,
   "metadata": {},
   "outputs": [],
   "source": []
  }
 ],
 "metadata": {
  "kernelspec": {
   "display_name": "Python 3",
   "language": "python",
   "name": "python3"
  },
  "language_info": {
   "codemirror_mode": {
    "name": "ipython",
    "version": 3
   },
   "file_extension": ".py",
   "mimetype": "text/x-python",
   "name": "python",
   "nbconvert_exporter": "python",
   "pygments_lexer": "ipython3",
   "version": "3.7.4"
  }
 },
 "nbformat": 4,
 "nbformat_minor": 2
}
